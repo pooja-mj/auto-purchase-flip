{
 "cells": [
  {
   "cell_type": "code",
   "execution_count": null,
   "metadata": {},
   "outputs": [],
   "source": [
    "import selenium\n",
    "from selenium import webdriver"
   ]
  },
  {
   "cell_type": "code",
   "execution_count": null,
   "metadata": {},
   "outputs": [],
   "source": [
    "driver = webdriver.Chrome(executable_path='drivers\\chromedriver.exe')"
   ]
  },
  {
   "cell_type": "code",
   "execution_count": null,
   "metadata": {},
   "outputs": [],
   "source": [
    "driver.get(\"http://www.google.com\")"
   ]
  },
  {
   "cell_type": "code",
   "execution_count": null,
   "metadata": {},
   "outputs": [],
   "source": [
    "# #Find Element(s) By ID\n",
    "# element = browser.find_element_by_id(\"txt_1\")\n",
    "# elements = browser.find_elements_by_id(\"txt_1\")\n",
    "\n",
    "# #Find Element By XPATH\n",
    "# browser.find_element_by_xpath(\"//input\")\n",
    "\n",
    "# #Find Element By Link Text\n",
    "# browser.find_element_by_link_text(\"Products\")\n",
    "\n",
    "# #Find Element By Link Text\n",
    "# browser.find_element_by_link_text(\"Products\")\n",
    "\n",
    "# #Find Element By Partial Link Text\n",
    "# browser.find_element_by_partial_link_text('Sign')\n",
    "\n",
    "# #Find Element By Name\n",
    "# browser.find_elements_by_name('foo')\n",
    "\n",
    "# #Find Element By Tag Name\n",
    "# browser.find_elements_by_tag_name('Input')\n",
    "\n",
    "# #Find Element By Class Name\n",
    "# browser.find_elements_by_class_name('breadcrumb')\n",
    "\n",
    "# #Find Element By CSS Selector\n",
    "# browser.find_elements_by_css_selector('input[name=\"txt\"]')"
   ]
  }
 ],
 "metadata": {
  "kernelspec": {
   "display_name": "Python 3",
   "language": "python",
   "name": "python3"
  },
  "language_info": {
   "codemirror_mode": {
    "name": "ipython",
    "version": 3
   },
   "file_extension": ".py",
   "mimetype": "text/x-python",
   "name": "python",
   "nbconvert_exporter": "python",
   "pygments_lexer": "ipython3",
   "version": "3.7.0"
  }
 },
 "nbformat": 4,
 "nbformat_minor": 4
}
